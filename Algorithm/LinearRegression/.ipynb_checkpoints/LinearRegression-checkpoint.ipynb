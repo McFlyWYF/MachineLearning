{
 "cells": [
  {
   "cell_type": "markdown",
   "metadata": {},
   "source": [
    "## 线性回归基本步骤"
   ]
  },
  {
   "cell_type": "markdown",
   "metadata": {},
   "source": [
    "### 第一步"
   ]
  },
  {
   "cell_type": "markdown",
   "metadata": {},
   "source": [
    "* 加载数据"
   ]
  },
  {
   "cell_type": "markdown",
   "metadata": {},
   "source": [
    "### 第二步"
   ]
  },
  {
   "cell_type": "markdown",
   "metadata": {},
   "source": [
    "* 归一化处理$x_i=\\frac{x_i-\\mu _i}{s_i}$"
   ]
  },
  {
   "cell_type": "markdown",
   "metadata": {},
   "source": [
    "### 第三步"
   ]
  },
  {
   "cell_type": "markdown",
   "metadata": {},
   "source": [
    "* 计算损失函数loss    $J(\\theta)=\\frac{1}{2m}\\sum_{i=1}^{m}(h_\\theta(x^i)-y^i)^2$"
   ]
  },
  {
   "cell_type": "markdown",
   "metadata": {},
   "source": [
    "### 第四步"
   ]
  },
  {
   "cell_type": "markdown",
   "metadata": {},
   "source": [
    "* 通过梯度下降算法更新$\\theta$的值。"
   ]
  },
  {
   "cell_type": "markdown",
   "metadata": {},
   "source": [
    "### 第五步"
   ]
  },
  {
   "cell_type": "markdown",
   "metadata": {},
   "source": [
    "* 通过测试集预测模型的效果"
   ]
  },
  {
   "cell_type": "code",
   "execution_count": 1,
   "metadata": {},
   "outputs": [],
   "source": [
    "import numpy as np\n",
    "from matplotlib import pyplot as plt\n",
    "from matplotlib.font_manager import FontProperties\n",
    "\n",
    "font = FontProperties(fname=r\"c:\\windows\\fonts\\simsun.ttc\", size=14)  # 解决windows环境下画图汉字乱码问题"
   ]
  },
  {
   "cell_type": "code",
   "execution_count": 2,
   "metadata": {},
   "outputs": [],
   "source": [
    "def linearRegression(alpha=0.01, num_iters=100):\n",
    "    print (u\"加载数据...\\n\")\n",
    "\n",
    "    data = loadtxtAndcsv_data(\"train.txt\", \",\", np.float64)  # 读取数据\n",
    "    X = data[:, 0:-1]  # X对应0到倒数第2列\n",
    "    y = data[:, -1]  # y对应最后一列\n",
    "    m = len(y)  # 总的数据条数\n",
    "    col = data.shape[1]  # data的列数\n",
    "    \n",
    "    \n",
    "    print('归一化之前的效果图')\n",
    "    plot_X1_X2(X)  # 画图看一下归一化之前效果\n",
    "\n",
    "    X, mu, sigma = featureNormaliza(X)  # 归一化\n",
    "    \n",
    "    print('归一化之后的效果图')\n",
    "    plot_X1_X2(X)  # 画图看一下归一化后效果\n",
    "    \n",
    "    X1 = data[:,0]\n",
    "    X2 = data[:,1]\n",
    "    print('3D数据图')\n",
    "    plot_3D(X1,X2,y)\n",
    "\n",
    "    X = np.hstack((np.ones((m, 1)), X))  # 在X前加一列1\n",
    "\n",
    "    print (u\"\\n执行梯度下降算法....\\n\")\n",
    "\n",
    "    theta = np.zeros((col, 1))\n",
    "    y = y.reshape(-1, 1)  # 将行向量转化为列\n",
    "    theta, J_history = gradientDescent(X, y, theta, alpha, num_iters)\n",
    "\n",
    "    plotJ(J_history, num_iters)\n",
    "\n",
    "    return mu, sigma, theta  # 返回均值mu,标准差sigma,和学习的结果theta"
   ]
  },
  {
   "cell_type": "code",
   "execution_count": 3,
   "metadata": {},
   "outputs": [],
   "source": [
    "# 加载txt和csv文件\n",
    "def loadtxtAndcsv_data(fileName, split, dataType):\n",
    "    return np.loadtxt(fileName, delimiter=split, dtype=dataType)"
   ]
  },
  {
   "cell_type": "code",
   "execution_count": 4,
   "metadata": {},
   "outputs": [],
   "source": [
    "# 加载npy文件\n",
    "def loadnpy_data(fileName):\n",
    "    return np.load(fileName)"
   ]
  },
  {
   "cell_type": "code",
   "execution_count": 5,
   "metadata": {},
   "outputs": [],
   "source": [
    "# 归一化feature\n",
    "def featureNormaliza(X):\n",
    "    X_norm = np.array(X)  # 将X转化为numpy数组对象，才可以进行矩阵的运算\n",
    "    # 定义所需变量\n",
    "    mu = np.zeros((1, X.shape[1]))\n",
    "    sigma = np.zeros((1, X.shape[1]))\n",
    "\n",
    "    mu = np.mean(X_norm, 0)  # 求每一列的平均值（0指定为列，1代表行）\n",
    "    sigma = np.std(X_norm, 0)  # 求每一列的标准差\n",
    "    for i in range(X.shape[1]):  # 遍历列\n",
    "        X_norm[:, i] = (X_norm[:, i] - mu[i]) / sigma[i]  # 归一化\n",
    "\n",
    "    return X_norm, mu, sigma"
   ]
  },
  {
   "cell_type": "code",
   "execution_count": 6,
   "metadata": {},
   "outputs": [],
   "source": [
    "# 画二维图\n",
    "def plot_X1_X2(X):\n",
    "    plt.scatter(X[:, 0], X[:, 1])\n",
    "    plt.xlabel('X1')\n",
    "    plt.ylabel('X2')\n",
    "    plt.show()"
   ]
  },
  {
   "cell_type": "code",
   "execution_count": 7,
   "metadata": {},
   "outputs": [],
   "source": [
    "#画3D图\n",
    "from mpl_toolkits.mplot3d import Axes3D\n",
    "def plot_3D(X1,X2,y):\n",
    "    ax = plt.subplot(111, projection='3d')  # 创建一个三维的绘图工程\n",
    "    \n",
    "    ax.scatter(X1, X2, y, c='b')  # 绘制数据点\n",
    "\n",
    "    ax.set_zlabel('Z')  # 坐标轴\n",
    "    ax.set_ylabel('X2')\n",
    "    ax.set_xlabel('X1')\n",
    "    \n",
    "    plt.show()"
   ]
  },
  {
   "cell_type": "code",
   "execution_count": 8,
   "metadata": {},
   "outputs": [],
   "source": [
    "# 梯度下降算法\n",
    "def gradientDescent(X, y, theta, alpha, num_iters):\n",
    "    m = len(y)\n",
    "    n = len(theta)\n",
    "\n",
    "    temp = np.matrix(np.zeros((n, num_iters)))  # 暂存每次迭代计算的theta，转化为矩阵形式\n",
    "\n",
    "    J_history = np.zeros((num_iters, 1))  # 记录每次迭代计算的代价值\n",
    "\n",
    "    for i in range(num_iters):  # 遍历迭代次数\n",
    "        h = np.dot(X, theta)  # 计算内积，matrix可以直接乘\n",
    "        temp[:, i] = theta - ((alpha / m) * (np.dot(np.transpose(X), h - y)))  # 梯度的计算\n",
    "        theta = temp[:, i]\n",
    "        J_history[i] = computerCost(X, y, theta)  # 调用计算代价函数\n",
    "        if i % 100 == 0:\n",
    "            print(\"iter = %d，loss = %f\" % (i,J_history[i]))\n",
    "    return theta, J_history"
   ]
  },
  {
   "cell_type": "code",
   "execution_count": 9,
   "metadata": {},
   "outputs": [],
   "source": [
    "# 计算代价函数\n",
    "def computerCost(X, y, theta):\n",
    "    m = len(y)\n",
    "    J = 0\n",
    "\n",
    "    J = (np.transpose(X * theta - y)) * (X * theta - y) / (2 * m)  # 计算代价J\n",
    "    return J"
   ]
  },
  {
   "cell_type": "code",
   "execution_count": 10,
   "metadata": {},
   "outputs": [],
   "source": [
    "# 画每次迭代代价的变化图\n",
    "def plotJ(J_history, num_iters):\n",
    "    x = np.arange(1, num_iters + 1)\n",
    "    plt.plot(x, J_history)\n",
    "    plt.xlabel(u\"迭代次数\", fontproperties=font)  # 注意指定字体，要不然出现乱码问题\n",
    "    plt.ylabel(u\"代价值\", fontproperties=font)\n",
    "    plt.title(u\"代价随迭代次数的变化\", fontproperties=font)\n",
    "    plt.show()"
   ]
  },
  {
   "cell_type": "code",
   "execution_count": 11,
   "metadata": {},
   "outputs": [],
   "source": [
    "# 测试linearRegression函数\n",
    "def testLinearRegression():\n",
    "    mu, sigma, theta = linearRegression(0.05, 1000)\n",
    "    print (u\"\\n计算的theta值为：\\n\",theta)\n",
    "    print (u\"\\n预测结果为：%f\"%predict(mu, sigma, theta))"
   ]
  },
  {
   "cell_type": "code",
   "execution_count": 12,
   "metadata": {},
   "outputs": [],
   "source": [
    "# 测试学习效果（预测）\n",
    "def predict(mu, sigma, theta):\n",
    "    result = 0\n",
    "    # 注意归一化\n",
    "    predict = np.array([1650, 3])\n",
    "    norm_predict = (predict - mu) / sigma\n",
    "    final_predict = np.hstack((np.ones((1)), norm_predict))\n",
    "\n",
    "    result = np.dot(final_predict, theta)  # 预测结果\n",
    "    return result"
   ]
  },
  {
   "cell_type": "code",
   "execution_count": null,
   "metadata": {},
   "outputs": [],
   "source": [
    "from sklearn.metrics import r2_score\n",
    "\n",
    "data = loadtxtAndcsv_data(\"train.txt\", \",\", np.float64)\n",
    "y_ture = data[:,-1]\n",
    "y_predict = predict\n",
    "score  = r2_score(y_true,y_predict,sample_weight=None,multioutput=None)\n",
    "\n",
    "return score"
   ]
  },
  {
   "cell_type": "code",
   "execution_count": null,
   "metadata": {},
   "outputs": [],
   "source": []
  },
  {
   "cell_type": "code",
   "execution_count": 13,
   "metadata": {},
   "outputs": [
    {
     "name": "stdout",
     "output_type": "stream",
     "text": [
      "加载数据...\n",
      "\n",
      "归一化之前的效果图\n"
     ]
    },
    {
     "data": {
      "image/png": "[encoded data removed]",
      "text/plain": [
       "<Figure size 432x288 with 1 Axes>"
      ]
     },
     "metadata": {},
     "output_type": "display_data"
    },
    {
     "name": "stdout",
     "output_type": "stream",
     "text": [
      "归一化之后的效果图\n"
     ]
    },
    {
     "data": {
      "image/png": "[encoded data removed]",
      "text/plain": [
       "<Figure size 432x288 with 1 Axes>"
      ]
     },
     "metadata": {},
     "output_type": "display_data"
    },
    {
     "name": "stdout",
     "output_type": "stream",
     "text": [
      "3D数据图\n"
     ]
    },
    {
     "data": {
      "image/png": "[encoded data removed]",
      "text/plain": [
       "<Figure size 432x288 with 1 Axes>"
      ]
     },
     "metadata": {},
     "output_type": "display_data"
    },
    {
     "name": "stdout",
     "output_type": "stream",
     "text": [
      "\n",
      "执行梯度下降算法....\n",
      "\n",
      "iter = 0，loss = 59259228917.516869\n",
      "iter = 100，loss = 2061664846.552836\n",
      "iter = 200，loss = 2043473518.084863\n",
      "iter = 300，loss = 2043282310.504195\n",
      "iter = 400，loss = 2043280077.009544\n",
      "iter = 500，loss = 2043280050.911388\n",
      "iter = 600，loss = 2043280050.606434\n",
      "iter = 700，loss = 2043280050.602871\n",
      "iter = 800，loss = 2043280050.602829\n",
      "iter = 900，loss = 2043280050.602828\n"
     ]
    },
    {
     "data": {
      "image/png": "[encoded data removed]",
      "text/plain": [
       "<Figure size 432x288 with 1 Axes>"
      ]
     },
     "metadata": {},
     "output_type": "display_data"
    },
    {
     "name": "stdout",
     "output_type": "stream",
     "text": [
      "\n",
      "计算的theta值为：\n",
      " [[340412.65957447]\n",
      " [109447.796457  ]\n",
      " [ -6578.35484152]]\n",
      "\n",
      "预测结果为：293081.464338\n"
     ]
    }
   ],
   "source": [
    "testLinearRegression()"
   ]
  },
  {
   "cell_type": "markdown",
   "metadata": {},
   "source": [
    "* 归一化之前的二维数据图和三维数据图是自己做的，第一次尝试画三维图，先这样吧，线性回归的代码基本就是这些。"
   ]
  },
  {
   "cell_type": "code",
   "execution_count": null,
   "metadata": {},
   "outputs": [],
   "source": []
  }
 ],
 "metadata": {
  "kernelspec": {
   "display_name": "Python 3",
   "language": "python",
   "name": "python3"
  },
  "language_info": {
   "codemirror_mode": {
    "name": "ipython",
    "version": 3
   },
   "file_extension": ".py",
   "mimetype": "text/x-python",
   "name": "python",
   "nbconvert_exporter": "python",
   "pygments_lexer": "ipython3",
   "version": "3.6.5"
  }
 },
 "nbformat": 4,
 "nbformat_minor": 2
}
